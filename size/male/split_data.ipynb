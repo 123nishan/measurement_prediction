{
 "cells": [
  {
   "cell_type": "code",
   "execution_count": 1,
   "metadata": {},
   "outputs": [],
   "source": [
    "import torch\n",
    "import pandas as pd\n",
    "import seaborn as sns\n",
    "import matplotlib.pyplot as plt\n",
    "from sklearn.model_selection import train_test_split\n",
    "from sklearn import preprocessing\n",
    "import re"
   ]
  },
  {
   "cell_type": "code",
   "execution_count": 66,
   "metadata": {},
   "outputs": [],
   "source": [
    "subject_number = 'Subject Number'\n",
    "age = 'Age (Years)'\n",
    "gender = 'Gender'\n",
    "height = 'Reported Height (cm)'\n",
    "weight = 'Reported Weight (kg)'\n",
    "shoe_size = 'Shoe Size NL'\n",
    "pants_size='Pants Size Waist'\n",
    "#measurements\n",
    "shoe_size_italy=\"Shoe Size IT\"\n",
    "pant_size='Pants Size Waist'\n",
    "\n",
    "jacket_size='Jacket Size'\n",
    "italy_jacket_size='Jacket Size IT'\n",
    "\n",
    "\n",
    "demographic=[subject_number,gender,age, height, weight, shoe_size,pant_size,jacket_size]\n",
    "italy_demographic=[subject_number,gender,age, height, weight, shoe_size_italy,pant_size,italy_jacket_size]"
   ]
  },
  {
   "cell_type": "code",
   "execution_count": 67,
   "metadata": {},
   "outputs": [],
   "source": [
    "demographic_path = \"../../dutch/demographic_metric.csv\"\n",
    "italy_demographic_path=\"../../italy/ItalyDemographics_csv.csv\""
   ]
  },
  {
   "cell_type": "code",
   "execution_count": 80,
   "metadata": {},
   "outputs": [],
   "source": [
    "demographic_data=pd.read_csv(demographic_path,skipinitialspace=True,usecols=demographic)\n",
    "# measurement_data=pd.read_csv(measurement_path,skipinitialspace=True,usecols=mearuments)\n",
    "# measurement_data=measurement_data[mearuments]\n",
    "demographic_data=demographic_data.loc[demographic_data[gender]=='Male'] #shape  Male (567,6) Female (700,6)\n",
    "demographic_data.head()\n",
    "# print(demographic_data.shape)# 567,8\n",
    "demographic_data.dropna(axis=0,how='any',inplace=True) # shape (564,*)\n",
    "# print(demographic_data.shape) # 567\n",
    "demographic_data=demographic_data[demographic_data[height].str.contains(\"No Response\")==False]\n",
    "demographic_data = demographic_data[demographic_data[weight].str.contains(\"No Response\") == False]\n",
    "demographic_data = demographic_data[demographic_data[shoe_size].str.contains(\"No Response\") == False]\n",
    "demographic_data = demographic_data[demographic_data[pants_size].str.contains(\"No Response\") == False]\n",
    "demographic_data = demographic_data[demographic_data[jacket_size].str.contains(\"No Response\") == False]\n",
    "demographic_data = demographic_data[demographic_data[pants_size].str.contains(\"Don't Know\") == False]\n",
    "demographic_data = demographic_data[demographic_data[jacket_size].str.contains(\"Don't Know\") == False]\n",
    "demographic_data = demographic_data[demographic_data[pants_size].str.contains(\"75 or Smaller\") == False]\n",
    "demographic_data = demographic_data[demographic_data[jacket_size].str.contains(\"46 or Smaller\") == False]\n",
    "# print(demographic_data.shape) # 234\n",
    "demographic_data[height] = pd.to_numeric(demographic_data[height])\n",
    "demographic_data[weight]=pd.to_numeric(demographic_data[weight])\n",
    "demographic_data[shoe_size]=pd.to_numeric(demographic_data[shoe_size])\n",
    "demographic_data[pants_size]=pd.to_numeric(demographic_data[pants_size])\n",
    "demographic_data[jacket_size]=pd.to_numeric(demographic_data[jacket_size])\n",
    "features = demographic_data.columns.tolist()\n",
    "target = features[-2:] #get last column\n",
    "\n",
    "    #features = list(set(features) - set([target]))\n",
    "features = features[:-2]\n"
   ]
  },
  {
   "cell_type": "code",
   "execution_count": 81,
   "metadata": {},
   "outputs": [],
   "source": [
    "italy_demographic_data=pd.read_csv(italy_demographic_path,skipinitialspace=True,usecols=italy_demographic)\n",
    "# measurement_data=pd.read_csv(measurement_path,skipinitialspace=True,usecols=mearuments)\n",
    "# measurement_data=measurement_data[mearuments]\n",
    "italy_demographic_data=italy_demographic_data.loc[italy_demographic_data[gender]=='Male'] #shape  Male (567,6) Female (700,6)\n",
    "italy_demographic_data.head()\n",
    "# print(demographic_data.shape)# 567,8\n",
    "italy_demographic_data.dropna(axis=0,how='any',inplace=True) # shape (564,*)\n",
    "# print(demographic_data.shape) # 567\n",
    "\n",
    "# italy_demographic_data=italy_demographic_data[italy_demographic_data[height].str.contains(\"No Response\")==False]\n",
    "# italy_demographic_data = italy_demographic_data[italy_demographic_data[weight].str.contains(\"No Response\") == False]\n",
    "italy_demographic_data=italy_demographic_data[italy_demographic_data[shoe_size_italy].str.contains(\"44 or Larger|35 or Smaller\")==False]\n",
    "italy_demographic_data = italy_demographic_data[italy_demographic_data[shoe_size_italy].str.contains(\"No Response\") == False]\n",
    "italy_demographic_data = italy_demographic_data[italy_demographic_data[pant_size].str.contains(\"No Response\") == False]\n",
    "italy_demographic_data = italy_demographic_data[italy_demographic_data[italy_jacket_size].str.contains(\"No Response\") == False]\n",
    "italy_demographic_data = italy_demographic_data[italy_demographic_data[pant_size].str.contains(\"Don't Know\") == False]\n",
    "italy_demographic_data = italy_demographic_data[italy_demographic_data[italy_jacket_size].str.contains(\"Don't Know\") == False]\n",
    "italy_demographic_data = italy_demographic_data[italy_demographic_data[italy_jacket_size].str.contains(\"46 or Smaller\") == False]\n",
    "italy_demographic_data = italy_demographic_data[italy_demographic_data[italy_jacket_size].str.contains(\"58 or Larger\") == False]\n",
    "italy_demographic_data = italy_demographic_data[italy_demographic_data[pant_size].str.contains(\"29.5 or Smaller\") == False]\n",
    "\n",
    "# print(demographic_data.shape) # 234\n",
    "\n",
    "# italy_demographic_data[height] = pd.to_numeric(italy_demographic_data[height])\n",
    "# italy_demographic_data[weight]=pd.to_numeric(italy_demographic_data[weight])\n",
    "italy_demographic_data[shoe_size_italy]=pd.to_numeric(italy_demographic_data[shoe_size_italy])\n",
    "italy_demographic_data[pant_size]=pd.to_numeric(italy_demographic_data[pant_size])\n",
    "italy_demographic_data[italy_jacket_size]=pd.to_numeric(italy_demographic_data[italy_jacket_size])\n",
    "features_italy = italy_demographic_data.columns.tolist()\n",
    "targe_italy = features_italy[-2:] #get last column\n",
    "\n",
    "    #features = list(set(features) - set([target]))\n",
    "features_italy = features_italy[:-2]\n",
    "# target = features[-2:] #get last column\n",
    "\n",
    "#     #features = list(set(features) - set([target]))\n",
    "# features = features[:-2]\n"
   ]
  },
  {
   "cell_type": "code",
   "execution_count": 82,
   "metadata": {},
   "outputs": [
    {
     "data": {
      "text/html": [
       "<div>\n",
       "<style scoped>\n",
       "    .dataframe tbody tr th:only-of-type {\n",
       "        vertical-align: middle;\n",
       "    }\n",
       "\n",
       "    .dataframe tbody tr th {\n",
       "        vertical-align: top;\n",
       "    }\n",
       "\n",
       "    .dataframe thead th {\n",
       "        text-align: right;\n",
       "    }\n",
       "</style>\n",
       "<table border=\"1\" class=\"dataframe\">\n",
       "  <thead>\n",
       "    <tr style=\"text-align: right;\">\n",
       "      <th></th>\n",
       "      <th>Jacket Size</th>\n",
       "      <th>Pants Size Waist</th>\n",
       "    </tr>\n",
       "  </thead>\n",
       "  <tbody>\n",
       "    <tr>\n",
       "      <th>3</th>\n",
       "      <td>55</td>\n",
       "      <td>36</td>\n",
       "    </tr>\n",
       "    <tr>\n",
       "      <th>6</th>\n",
       "      <td>60</td>\n",
       "      <td>34</td>\n",
       "    </tr>\n",
       "    <tr>\n",
       "      <th>7</th>\n",
       "      <td>51</td>\n",
       "      <td>33</td>\n",
       "    </tr>\n",
       "    <tr>\n",
       "      <th>10</th>\n",
       "      <td>54</td>\n",
       "      <td>38</td>\n",
       "    </tr>\n",
       "    <tr>\n",
       "      <th>18</th>\n",
       "      <td>54</td>\n",
       "      <td>38</td>\n",
       "    </tr>\n",
       "  </tbody>\n",
       "</table>\n",
       "</div>"
      ],
      "text/plain": [
       "    Jacket Size  Pants Size Waist\n",
       "3            55                36\n",
       "6            60                34\n",
       "7            51                33\n",
       "10           54                38\n",
       "18           54                38"
      ]
     },
     "execution_count": 82,
     "metadata": {},
     "output_type": "execute_result"
    }
   ],
   "source": [
    "X_dutch = demographic_data[features]\n",
    "y_dutch = demographic_data[target]\n",
    "y_dutch.head()"
   ]
  },
  {
   "cell_type": "code",
   "execution_count": 110,
   "metadata": {},
   "outputs": [
    {
     "data": {
      "text/html": [
       "<div>\n",
       "<style scoped>\n",
       "    .dataframe tbody tr th:only-of-type {\n",
       "        vertical-align: middle;\n",
       "    }\n",
       "\n",
       "    .dataframe tbody tr th {\n",
       "        vertical-align: top;\n",
       "    }\n",
       "\n",
       "    .dataframe thead th {\n",
       "        text-align: right;\n",
       "    }\n",
       "</style>\n",
       "<table border=\"1\" class=\"dataframe\">\n",
       "  <thead>\n",
       "    <tr style=\"text-align: right;\">\n",
       "      <th></th>\n",
       "      <th>Jacket Size IT</th>\n",
       "      <th>Pants Size Waist</th>\n",
       "    </tr>\n",
       "  </thead>\n",
       "  <tbody>\n",
       "    <tr>\n",
       "      <th>4</th>\n",
       "      <td>48</td>\n",
       "      <td>35.4</td>\n",
       "    </tr>\n",
       "    <tr>\n",
       "      <th>18</th>\n",
       "      <td>50</td>\n",
       "      <td>31.5</td>\n",
       "    </tr>\n",
       "    <tr>\n",
       "      <th>25</th>\n",
       "      <td>48</td>\n",
       "      <td>33.5</td>\n",
       "    </tr>\n",
       "    <tr>\n",
       "      <th>26</th>\n",
       "      <td>52</td>\n",
       "      <td>31.5</td>\n",
       "    </tr>\n",
       "    <tr>\n",
       "      <th>27</th>\n",
       "      <td>48</td>\n",
       "      <td>31.5</td>\n",
       "    </tr>\n",
       "  </tbody>\n",
       "</table>\n",
       "</div>"
      ],
      "text/plain": [
       "    Jacket Size IT  Pants Size Waist\n",
       "4               48              35.4\n",
       "18              50              31.5\n",
       "25              48              33.5\n",
       "26              52              31.5\n",
       "27              48              31.5"
      ]
     },
     "execution_count": 110,
     "metadata": {},
     "output_type": "execute_result"
    }
   ],
   "source": [
    "X_italy = italy_demographic_data[features_italy]\n",
    "y_italy = italy_demographic_data[targe_italy]\n",
    "y_italy.head()"
   ]
  },
  {
   "cell_type": "code",
   "execution_count": 114,
   "metadata": {},
   "outputs": [],
   "source": [
    "#Train and test\n",
    "X_train_dutch,X_test_dutch,y_train_dutch,y_test_dutch=train_test_split(X_dutch,y_dutch,test_size=0.20,random_state=42)\n",
    "#Train and validation\n",
    "\n",
    "X_train_dutch,X_val_dutch,y_train_dutch,y_val_dutch=train_test_split(X_train_dutch,y_train_dutch,test_size=0.20,random_state=42)\n",
    "\n",
    "# additional_df=pd.concat([X_test_dutch[subject_number],X_test_dutch[pants_size],X_test_dutch['shape']],axis=1)\n",
    "X_test_dutch=X_test_dutch.drop(subject_number,axis=1)\n",
    "\n",
    "# X_test_dutch=X_test_dutch.drop(pants_size,axis=1)\n",
    "X_train_dutch=X_train_dutch.drop(subject_number,axis=1)\n",
    "\n",
    "# X_train_dutch=X_train_dutch.drop(pants_size,axis=1)\n",
    "X_val_dutch=X_val_dutch.drop(subject_number,axis=1)\n",
    "\n",
    "# X_val_dutch=X_val_dutch.drop(pants_size,axis=1)"
   ]
  },
  {
   "cell_type": "code",
   "execution_count": 117,
   "metadata": {},
   "outputs": [],
   "source": [
    "X_train_dutch.to_csv(\"./dutch/X_train.csv\",encoding='utf-8',index=False)\n",
    "y_train_dutch.to_csv(\"./dutch/y_train.csv\",encoding='utf-8',index=False)\n",
    "\n",
    "X_test_dutch.to_csv(\"./dutch/X_test.csv\",encoding='utf-8',index=False)\n",
    "y_test_dutch.to_csv(\"./dutch/y_test.csv\",encoding='utf-8',index=False)\n",
    "\n",
    "X_val_dutch.to_csv(\"./dutch/X_val.csv\",encoding='utf-8',index=False)\n",
    "y_val_dutch.to_csv(\"./dutch/y_val.csv\",encoding='utf-8',index=False)\n",
    "\n",
    "# additional_df.to_csv(\"additional_df.csv\",encoding='utf-8',index=False)"
   ]
  },
  {
   "cell_type": "code",
   "execution_count": 118,
   "metadata": {},
   "outputs": [],
   "source": [
    "#Train and test\n",
    "X_train_italy,X_test_italy,y_train_italy,y_test_italy=train_test_split(X_italy,y_italy,test_size=0.20,random_state=42)\n",
    "#Train and validation\n",
    "\n",
    "X_train_italy,X_val_italy,y_train_italy,y_val_italy=train_test_split(X_train_italy,y_train_italy,test_size=0.20,random_state=42)\n",
    "\n",
    "# additional_df=pd.concat([X_test_dutch[subject_number],X_test_dutch[pants_size],X_test_dutch['shape']],axis=1)\n",
    "X_test_italy=X_test_italy.drop(subject_number,axis=1)\n",
    "\n",
    "# X_test_dutch=X_test_dutch.drop(pants_size,axis=1)\n",
    "X_train_italy=X_train_italy.drop(subject_number,axis=1)\n",
    "\n",
    "# X_train_dutch=X_train_dutch.drop(pants_size,axis=1)\n",
    "X_val_italy=X_val_italy.drop(subject_number,axis=1)\n",
    "\n",
    "# X_val_dutch=X_val_dutch.drop(pants_size,axis=1)"
   ]
  },
  {
   "cell_type": "code",
   "execution_count": 119,
   "metadata": {},
   "outputs": [],
   "source": [
    "X_train_italy.to_csv(\"./italy/X_train.csv\",encoding='utf-8',index=False)\n",
    "y_train_italy.to_csv(\"./italy/y_train.csv\",encoding='utf-8',index=False)\n",
    "\n",
    "X_test_italy.to_csv(\"./italy/X_test.csv\",encoding='utf-8',index=False)\n",
    "y_test_italy.to_csv(\"./italy/y_test.csv\",encoding='utf-8',index=False)\n",
    "\n",
    "X_val_italy.to_csv(\"./italy/X_val.csv\",encoding='utf-8',index=False)\n",
    "y_val_italy.to_csv(\"./italy/y_val.csv\",encoding='utf-8',index=False)\n",
    "\n",
    "# additional_df.to_csv(\"additional_df.csv\",encoding='utf-8',index=False)"
   ]
  },
  {
   "cell_type": "code",
   "execution_count": 120,
   "metadata": {},
   "outputs": [
    {
     "data": {
      "text/plain": [
       "<AxesSubplot:>"
      ]
     },
     "execution_count": 120,
     "metadata": {},
     "output_type": "execute_result"
    },
    {
     "data": {
      "image/png": "[encoded data removed]",
      "text/plain": [
       "<Figure size 1080x1080 with 2 Axes>"
      ]
     },
     "metadata": {
      "needs_background": "light"
     },
     "output_type": "display_data"
    }
   ],
   "source": [
    "plt.figure(figsize=(15,15))\n",
    "sns.heatmap(demographic_data.corr(),annot=True,cmap='RdYlGn',linewidths=2,linecolor='orange',annot_kws={'size':8,'color':'black'},fmt='.4f',square=True)"
   ]
  },
  {
   "cell_type": "code",
   "execution_count": null,
   "metadata": {},
   "outputs": [],
   "source": []
  }
 ],
 "metadata": {
  "kernelspec": {
   "display_name": "Python 3.9.7 ('base')",
   "language": "python",
   "name": "python3"
  },
  "language_info": {
   "codemirror_mode": {
    "name": "ipython",
    "version": 3
   },
   "file_extension": ".py",
   "mimetype": "text/x-python",
   "name": "python",
   "nbconvert_exporter": "python",
   "pygments_lexer": "ipython3",
   "version": "3.9.7"
  },
  "orig_nbformat": 4,
  "vscode": {
   "interpreter": {
    "hash": "2791c2a9a2b545cc71f516a9d7b12c0a136038ac5c649735d2a925a62106331c"
   }
  }
 },
 "nbformat": 4,
 "nbformat_minor": 2
}
