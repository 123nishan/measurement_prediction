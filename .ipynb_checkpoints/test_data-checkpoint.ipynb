{
 "cells": [
  {
   "cell_type": "code",
   "execution_count": null,
   "metadata": {},
   "outputs": [],
   "source": []
  },
  {
   "cell_type": "code",
   "execution_count": 1,
   "metadata": {},
   "outputs": [],
   "source": [
    "import pandas as pd\n",
    "import seaborn as sns\n",
    "import matplotlib.pyplot as plt"
   ]
  },
  {
   "cell_type": "code",
   "execution_count": 2,
   "metadata": {},
   "outputs": [],
   "source": [
    "subject_number = 'Subject Number'\n",
    "age = 'Age (Years)'\n",
    "gender = 'Gender'\n",
    "height = 'Reported Height (cm)'\n",
    "weight = 'Reported Weight (kg)'\n",
    "shoe_size = 'Shoe Size NL'\n",
    "pants_size='Pants Size Waist'\n",
    "#measurements\n",
    "waist = 'Waist Circumference, Pref (mm)'\n",
    "neck='Neck Base Circumference (mm)'\n",
    "hip= 'Hip Circumference, Maximum (mm)'\n",
    "chest='Chest Circumference (mm)'\n",
    "crotch_height='Crotch Height (mm)'\n",
    "shoe_size_italy=\"Shoe Size IT\""
   ]
  },
  {
   "cell_type": "code",
   "execution_count": 3,
   "metadata": {},
   "outputs": [],
   "source": [
    "demographic=[subject_number,gender,age, height, weight, shoe_size,pants_size]\n",
    "mearuments=[subject_number,waist,neck,chest,hip,crotch_height]\n",
    "italy_demographic=[subject_number,gender,age, height, weight, shoe_size_italy,pants_size]\n",
    "demographic_path = \"./dutch/demographic_metric.csv\"\n",
    "measurement_path = \"./dutch/measurement_metric.csv\"\n",
    "M_data=pd.read_csv(measurement_path,skipinitialspace=True)"
   ]
  },
  {
   "cell_type": "code",
   "execution_count": 4,
   "metadata": {},
   "outputs": [],
   "source": [
    "italy_demographic_path=\"./italy/ItalyDemographics_csv.csv\"\n",
    "italy_measurement_path=\"./italy/ItalyMeasurements_csv.csv\"\n"
   ]
  },
  {
   "cell_type": "code",
   "execution_count": 5,
   "metadata": {},
   "outputs": [],
   "source": [
    "demographic_data=pd.read_csv(demographic_path,skipinitialspace=True,usecols=demographic)\n",
    "measurement_data=pd.read_csv(measurement_path,skipinitialspace=True,usecols=mearuments)\n",
    "measurement_data=measurement_data[[subject_number,waist,chest,neck,hip,crotch_height]]\n",
    "demographic_data=demographic_data.loc[demographic_data[gender]=='Male'] #shape  Male (567,6) Female (700,6)\n",
    "\n",
    "data = demographic_data.merge(measurement_data, on=subject_number, how='left') #shape (567, *)\n",
    "\n",
    "# data = data.drop(subject_number, axis=1)\n",
    "\n",
    "data=data.drop(gender,axis=1)\n"
   ]
  },
  {
   "cell_type": "code",
   "execution_count": 6,
   "metadata": {},
   "outputs": [
    {
     "data": {
      "text/html": [
       "<div>\n",
       "<style scoped>\n",
       "    .dataframe tbody tr th:only-of-type {\n",
       "        vertical-align: middle;\n",
       "    }\n",
       "\n",
       "    .dataframe tbody tr th {\n",
       "        vertical-align: top;\n",
       "    }\n",
       "\n",
       "    .dataframe thead th {\n",
       "        text-align: right;\n",
       "    }\n",
       "</style>\n",
       "<table border=\"1\" class=\"dataframe\">\n",
       "  <thead>\n",
       "    <tr style=\"text-align: right;\">\n",
       "      <th></th>\n",
       "      <th>Subject Number</th>\n",
       "      <th>Age (Years)</th>\n",
       "      <th>Reported Height (cm)</th>\n",
       "      <th>Reported Weight (kg)</th>\n",
       "      <th>Shoe Size NL</th>\n",
       "      <th>Pants Size Waist</th>\n",
       "      <th>Waist Circumference, Pref (mm)</th>\n",
       "      <th>Chest Circumference (mm)</th>\n",
       "      <th>Neck Base Circumference (mm)</th>\n",
       "      <th>Hip Circumference, Maximum (mm)</th>\n",
       "      <th>Crotch Height (mm)</th>\n",
       "    </tr>\n",
       "  </thead>\n",
       "  <tbody>\n",
       "    <tr>\n",
       "      <th>0</th>\n",
       "      <td>11012</td>\n",
       "      <td>24</td>\n",
       "      <td>206.00</td>\n",
       "      <td>110.00</td>\n",
       "      <td>47</td>\n",
       "      <td>36</td>\n",
       "      <td>916.0</td>\n",
       "      <td>1004.0</td>\n",
       "      <td>506.0</td>\n",
       "      <td>1091.0</td>\n",
       "      <td>1005.0</td>\n",
       "    </tr>\n",
       "    <tr>\n",
       "      <th>1</th>\n",
       "      <td>11024</td>\n",
       "      <td>32</td>\n",
       "      <td>184.00</td>\n",
       "      <td>100.00</td>\n",
       "      <td>45</td>\n",
       "      <td>34</td>\n",
       "      <td>867.0</td>\n",
       "      <td>1099.0</td>\n",
       "      <td>482.0</td>\n",
       "      <td>1090.0</td>\n",
       "      <td>890.0</td>\n",
       "    </tr>\n",
       "    <tr>\n",
       "      <th>2</th>\n",
       "      <td>11025</td>\n",
       "      <td>56</td>\n",
       "      <td>187.00</td>\n",
       "      <td>82.00</td>\n",
       "      <td>44</td>\n",
       "      <td>33</td>\n",
       "      <td>886.0</td>\n",
       "      <td>983.0</td>\n",
       "      <td>492.0</td>\n",
       "      <td>966.0</td>\n",
       "      <td>856.0</td>\n",
       "    </tr>\n",
       "    <tr>\n",
       "      <th>3</th>\n",
       "      <td>11029</td>\n",
       "      <td>60</td>\n",
       "      <td>178.00</td>\n",
       "      <td>98.00</td>\n",
       "      <td>43</td>\n",
       "      <td>38</td>\n",
       "      <td>1036.0</td>\n",
       "      <td>1153.0</td>\n",
       "      <td>500.0</td>\n",
       "      <td>1056.0</td>\n",
       "      <td>797.0</td>\n",
       "    </tr>\n",
       "    <tr>\n",
       "      <th>4</th>\n",
       "      <td>11033</td>\n",
       "      <td>33</td>\n",
       "      <td>184.00</td>\n",
       "      <td>85.00</td>\n",
       "      <td>43</td>\n",
       "      <td>34</td>\n",
       "      <td>930.0</td>\n",
       "      <td>1021.0</td>\n",
       "      <td>575.0</td>\n",
       "      <td>NaN</td>\n",
       "      <td>831.0</td>\n",
       "    </tr>\n",
       "  </tbody>\n",
       "</table>\n",
       "</div>"
      ],
      "text/plain": [
       "   Subject Number  Age (Years) Reported Height (cm) Reported Weight (kg)  \\\n",
       "0           11012           24               206.00               110.00   \n",
       "1           11024           32               184.00               100.00   \n",
       "2           11025           56               187.00                82.00   \n",
       "3           11029           60               178.00                98.00   \n",
       "4           11033           33               184.00                85.00   \n",
       "\n",
       "  Shoe Size NL Pants Size Waist  Waist Circumference, Pref (mm)  \\\n",
       "0           47               36                           916.0   \n",
       "1           45               34                           867.0   \n",
       "2           44               33                           886.0   \n",
       "3           43               38                          1036.0   \n",
       "4           43               34                           930.0   \n",
       "\n",
       "   Chest Circumference (mm)  Neck Base Circumference (mm)  \\\n",
       "0                    1004.0                         506.0   \n",
       "1                    1099.0                         482.0   \n",
       "2                     983.0                         492.0   \n",
       "3                    1153.0                         500.0   \n",
       "4                    1021.0                         575.0   \n",
       "\n",
       "   Hip Circumference, Maximum (mm)  Crotch Height (mm)  \n",
       "0                           1091.0              1005.0  \n",
       "1                           1090.0               890.0  \n",
       "2                            966.0               856.0  \n",
       "3                           1056.0               797.0  \n",
       "4                              NaN               831.0  "
      ]
     },
     "execution_count": 6,
     "metadata": {},
     "output_type": "execute_result"
    }
   ],
   "source": [
    "data.head()"
   ]
  },
  {
   "cell_type": "markdown",
   "metadata": {},
   "source": [
    "ITALY data merge / ALL MALES"
   ]
  },
  {
   "cell_type": "code",
   "execution_count": 7,
   "metadata": {},
   "outputs": [
    {
     "data": {
      "text/html": [
       "<div>\n",
       "<style scoped>\n",
       "    .dataframe tbody tr th:only-of-type {\n",
       "        vertical-align: middle;\n",
       "    }\n",
       "\n",
       "    .dataframe tbody tr th {\n",
       "        vertical-align: top;\n",
       "    }\n",
       "\n",
       "    .dataframe thead th {\n",
       "        text-align: right;\n",
       "    }\n",
       "</style>\n",
       "<table border=\"1\" class=\"dataframe\">\n",
       "  <thead>\n",
       "    <tr style=\"text-align: right;\">\n",
       "      <th></th>\n",
       "      <th>Subject Number</th>\n",
       "      <th>Age (Years)</th>\n",
       "      <th>Reported Height (cm)</th>\n",
       "      <th>Reported Weight (kg)</th>\n",
       "      <th>Shoe Size NL</th>\n",
       "      <th>Pants Size Waist</th>\n",
       "      <th>Waist Circumference, Pref (mm)</th>\n",
       "      <th>Chest Circumference (mm)</th>\n",
       "      <th>Neck Base Circumference (mm)</th>\n",
       "      <th>Hip Circumference, Maximum (mm)</th>\n",
       "      <th>Crotch Height (mm)</th>\n",
       "    </tr>\n",
       "  </thead>\n",
       "  <tbody>\n",
       "    <tr>\n",
       "      <th>0</th>\n",
       "      <td>4000</td>\n",
       "      <td>30.5</td>\n",
       "      <td>172.0</td>\n",
       "      <td>72.0</td>\n",
       "      <td>41.0</td>\n",
       "      <td>Don't Know</td>\n",
       "      <td>826.0</td>\n",
       "      <td>965.0</td>\n",
       "      <td>490.0</td>\n",
       "      <td>930.0</td>\n",
       "      <td>794.0</td>\n",
       "    </tr>\n",
       "    <tr>\n",
       "      <th>1</th>\n",
       "      <td>4001</td>\n",
       "      <td>30.3</td>\n",
       "      <td>175.0</td>\n",
       "      <td>72.0</td>\n",
       "      <td>42.0</td>\n",
       "      <td>Don't Know</td>\n",
       "      <td>814.0</td>\n",
       "      <td>936.0</td>\n",
       "      <td>478.0</td>\n",
       "      <td>967.0</td>\n",
       "      <td>797.0</td>\n",
       "    </tr>\n",
       "    <tr>\n",
       "      <th>2</th>\n",
       "      <td>4004</td>\n",
       "      <td>18.1</td>\n",
       "      <td>179.0</td>\n",
       "      <td>67.0</td>\n",
       "      <td>41.0</td>\n",
       "      <td>35.4</td>\n",
       "      <td>787.0</td>\n",
       "      <td>917.0</td>\n",
       "      <td>470.0</td>\n",
       "      <td>940.0</td>\n",
       "      <td>849.0</td>\n",
       "    </tr>\n",
       "    <tr>\n",
       "      <th>3</th>\n",
       "      <td>4007</td>\n",
       "      <td>38.0</td>\n",
       "      <td>178.0</td>\n",
       "      <td>76.0</td>\n",
       "      <td>41.5</td>\n",
       "      <td>Don't Know</td>\n",
       "      <td>888.0</td>\n",
       "      <td>1050.0</td>\n",
       "      <td>505.0</td>\n",
       "      <td>1002.0</td>\n",
       "      <td>808.0</td>\n",
       "    </tr>\n",
       "    <tr>\n",
       "      <th>4</th>\n",
       "      <td>4011</td>\n",
       "      <td>18.5</td>\n",
       "      <td>173.0</td>\n",
       "      <td>71.0</td>\n",
       "      <td>43.0</td>\n",
       "      <td>29.5 or Smaller</td>\n",
       "      <td>786.0</td>\n",
       "      <td>967.0</td>\n",
       "      <td>504.0</td>\n",
       "      <td>888.0</td>\n",
       "      <td>752.0</td>\n",
       "    </tr>\n",
       "  </tbody>\n",
       "</table>\n",
       "</div>"
      ],
      "text/plain": [
       "   Subject Number  Age (Years)  Reported Height (cm)  Reported Weight (kg)  \\\n",
       "0            4000         30.5                 172.0                  72.0   \n",
       "1            4001         30.3                 175.0                  72.0   \n",
       "2            4004         18.1                 179.0                  67.0   \n",
       "3            4007         38.0                 178.0                  76.0   \n",
       "4            4011         18.5                 173.0                  71.0   \n",
       "\n",
       "  Shoe Size NL Pants Size Waist  Waist Circumference, Pref (mm)  \\\n",
       "0         41.0       Don't Know                           826.0   \n",
       "1         42.0       Don't Know                           814.0   \n",
       "2         41.0             35.4                           787.0   \n",
       "3         41.5       Don't Know                           888.0   \n",
       "4         43.0  29.5 or Smaller                           786.0   \n",
       "\n",
       "   Chest Circumference (mm)  Neck Base Circumference (mm)  \\\n",
       "0                     965.0                         490.0   \n",
       "1                     936.0                         478.0   \n",
       "2                     917.0                         470.0   \n",
       "3                    1050.0                         505.0   \n",
       "4                     967.0                         504.0   \n",
       "\n",
       "   Hip Circumference, Maximum (mm)  Crotch Height (mm)  \n",
       "0                            930.0               794.0  \n",
       "1                            967.0               797.0  \n",
       "2                            940.0               849.0  \n",
       "3                           1002.0               808.0  \n",
       "4                            888.0               752.0  "
      ]
     },
     "execution_count": 7,
     "metadata": {},
     "output_type": "execute_result"
    }
   ],
   "source": [
    "\n",
    "italy_demographic_data=pd.read_csv(italy_demographic_path,skipinitialspace=True,usecols=italy_demographic)\n",
    "italy_measurement_data=pd.read_csv(italy_measurement_path,skipinitialspace=True,usecols=mearuments)\n",
    "italy_measurement_data=italy_measurement_data[[subject_number,waist,chest,neck,hip,crotch_height]]\n",
    "italy_demographic_data=italy_demographic_data.loc[italy_demographic_data[gender]=='Male'] \n",
    "\n",
    "italy_demographic_data.columns=[subject_number,age,gender,height,weight,shoe_size,pants_size]\n",
    "italy_data=italy_demographic_data.merge(italy_measurement_data,on=subject_number,how='left')\n",
    "\n",
    "#italy_data=italy_data.drop(subject_number,axis=1)\n",
    "italy_data=italy_data.drop(gender,axis=1)\n",
    "italy_data.head()\n"
   ]
  },
  {
   "cell_type": "code",
   "execution_count": 8,
   "metadata": {},
   "outputs": [
    {
     "name": "stdout",
     "output_type": "stream",
     "text": [
      "(413, 11)\n",
      "(567, 11)\n"
     ]
    }
   ],
   "source": [
    "print(italy_data.shape)\n",
    "print(data.shape)"
   ]
  },
  {
   "cell_type": "code",
   "execution_count": 9,
   "metadata": {},
   "outputs": [
    {
     "data": {
      "text/plain": [
       "0      206.00\n",
       "1      184.00\n",
       "2      187.00\n",
       "3      178.00\n",
       "4      184.00\n",
       "        ...  \n",
       "562    169.00\n",
       "563    180.00\n",
       "564    180.00\n",
       "565    193.00\n",
       "566    180.00\n",
       "Name: Reported Height (cm), Length: 567, dtype: object"
      ]
     },
     "execution_count": 9,
     "metadata": {},
     "output_type": "execute_result"
    }
   ],
   "source": [
    "data[height]\n"
   ]
  },
  {
   "cell_type": "markdown",
   "metadata": {},
   "source": [
    "italy shape( 801,9)\n",
    "dutch shape(567,9)"
   ]
  },
  {
   "cell_type": "code",
   "execution_count": 10,
   "metadata": {},
   "outputs": [],
   "source": [
    "data.dropna(axis=0,how='any',inplace=True) # shape (564,*)\n",
    "data=data[data[height].str.contains(\"No Response\")==False]\n",
    "data = data[data[weight].str.contains(\"No Response\") == False]\n",
    "data = data[data[shoe_size].str.contains(\"No Response\") == False]\n",
    "total_features=data.shape[1]-1"
   ]
  },
  {
   "cell_type": "code",
   "execution_count": 11,
   "metadata": {},
   "outputs": [],
   "source": [
    "data = data[data[pants_size].str.contains(\"No Response\") == False]"
   ]
  },
  {
   "cell_type": "code",
   "execution_count": 12,
   "metadata": {},
   "outputs": [
    {
     "name": "stdout",
     "output_type": "stream",
     "text": [
      "float64\n",
      "object\n"
     ]
    }
   ],
   "source": [
    "print(italy_data[weight].dtype)\n",
    "print(data[weight].dtype)"
   ]
  },
  {
   "cell_type": "code",
   "execution_count": 13,
   "metadata": {},
   "outputs": [],
   "source": [
    "italy_data=italy_data[italy_data[shoe_size].str.contains(\"44 or Larger|35 or Smaller\")==False]\n",
    "italy_data=italy_data[italy_data[pants_size].str.contains(\"Don't Know|29.5 or Smaller|63 or Larger\")==False]\n",
    "italy_data = italy_data[italy_data[pants_size].str.contains(\"No Response\") == False]\n",
    "data.dropna(axis=0,how='any',inplace=True)"
   ]
  },
  {
   "cell_type": "code",
   "execution_count": 14,
   "metadata": {},
   "outputs": [
    {
     "name": "stdout",
     "output_type": "stream",
     "text": [
      "Subject Number                       int64\n",
      "Age (Years)                          int64\n",
      "Reported Height (cm)                object\n",
      "Reported Weight (kg)                object\n",
      "Shoe Size NL                        object\n",
      "Pants Size Waist                    object\n",
      "Waist Circumference, Pref (mm)     float64\n",
      "Chest Circumference (mm)           float64\n",
      "Neck Base Circumference (mm)       float64\n",
      "Hip Circumference, Maximum (mm)    float64\n",
      "Crotch Height (mm)                 float64\n",
      "dtype: object\n"
     ]
    }
   ],
   "source": [
    "italy_data[shoe_size]=pd.to_numeric(italy_data[shoe_size])\n",
    "italy_data[pants_size]=pd.to_numeric(italy_data[pants_size])\n",
    "italy_data.dtypes\n",
    "print(data.dtypes)"
   ]
  },
  {
   "cell_type": "code",
   "execution_count": 15,
   "metadata": {},
   "outputs": [],
   "source": [
    "features = data.columns.tolist()\n",
    "\n",
    "target = features[-5:] #get last column\n",
    "\n",
    "    #features = list(set(features) - set([target]))\n",
    "features = features[:-5]\n",
    "data[height] = pd.to_numeric(data[height])\n",
    "data[weight]=pd.to_numeric(data[weight])\n",
    "data[shoe_size]=pd.to_numeric(data[shoe_size])\n",
    "data[pants_size]=pd.to_numeric(data[shoe_size])"
   ]
  },
  {
   "cell_type": "code",
   "execution_count": 16,
   "metadata": {},
   "outputs": [
    {
     "data": {
      "text/html": [
       "<div>\n",
       "<style scoped>\n",
       "    .dataframe tbody tr th:only-of-type {\n",
       "        vertical-align: middle;\n",
       "    }\n",
       "\n",
       "    .dataframe tbody tr th {\n",
       "        vertical-align: top;\n",
       "    }\n",
       "\n",
       "    .dataframe thead th {\n",
       "        text-align: right;\n",
       "    }\n",
       "</style>\n",
       "<table border=\"1\" class=\"dataframe\">\n",
       "  <thead>\n",
       "    <tr style=\"text-align: right;\">\n",
       "      <th></th>\n",
       "      <th>Subject Number</th>\n",
       "      <th>Age (Years)</th>\n",
       "      <th>Reported Height (cm)</th>\n",
       "      <th>Reported Weight (kg)</th>\n",
       "      <th>Shoe Size NL</th>\n",
       "      <th>Pants Size Waist</th>\n",
       "      <th>Waist Circumference, Pref (mm)</th>\n",
       "      <th>Chest Circumference (mm)</th>\n",
       "      <th>Neck Base Circumference (mm)</th>\n",
       "      <th>Hip Circumference, Maximum (mm)</th>\n",
       "      <th>Crotch Height (mm)</th>\n",
       "    </tr>\n",
       "  </thead>\n",
       "  <tbody>\n",
       "    <tr>\n",
       "      <th>2</th>\n",
       "      <td>4004</td>\n",
       "      <td>18.1</td>\n",
       "      <td>179.0</td>\n",
       "      <td>67.0</td>\n",
       "      <td>41.0</td>\n",
       "      <td>35.4</td>\n",
       "      <td>787.0</td>\n",
       "      <td>917.0</td>\n",
       "      <td>470.0</td>\n",
       "      <td>940.0</td>\n",
       "      <td>849.0</td>\n",
       "    </tr>\n",
       "    <tr>\n",
       "      <th>5</th>\n",
       "      <td>4018</td>\n",
       "      <td>46.8</td>\n",
       "      <td>169.0</td>\n",
       "      <td>74.0</td>\n",
       "      <td>41.0</td>\n",
       "      <td>31.5</td>\n",
       "      <td>908.0</td>\n",
       "      <td>976.0</td>\n",
       "      <td>503.0</td>\n",
       "      <td>996.0</td>\n",
       "      <td>778.0</td>\n",
       "    </tr>\n",
       "    <tr>\n",
       "      <th>8</th>\n",
       "      <td>4025</td>\n",
       "      <td>36.4</td>\n",
       "      <td>168.0</td>\n",
       "      <td>66.0</td>\n",
       "      <td>40.0</td>\n",
       "      <td>33.5</td>\n",
       "      <td>791.0</td>\n",
       "      <td>946.0</td>\n",
       "      <td>483.0</td>\n",
       "      <td>938.0</td>\n",
       "      <td>746.0</td>\n",
       "    </tr>\n",
       "    <tr>\n",
       "      <th>9</th>\n",
       "      <td>4026</td>\n",
       "      <td>36.5</td>\n",
       "      <td>186.0</td>\n",
       "      <td>82.0</td>\n",
       "      <td>42.0</td>\n",
       "      <td>31.5</td>\n",
       "      <td>851.0</td>\n",
       "      <td>991.0</td>\n",
       "      <td>480.0</td>\n",
       "      <td>977.0</td>\n",
       "      <td>867.0</td>\n",
       "    </tr>\n",
       "    <tr>\n",
       "      <th>10</th>\n",
       "      <td>4027</td>\n",
       "      <td>27.0</td>\n",
       "      <td>178.0</td>\n",
       "      <td>74.0</td>\n",
       "      <td>43.0</td>\n",
       "      <td>31.5</td>\n",
       "      <td>832.0</td>\n",
       "      <td>932.0</td>\n",
       "      <td>500.0</td>\n",
       "      <td>986.0</td>\n",
       "      <td>785.0</td>\n",
       "    </tr>\n",
       "  </tbody>\n",
       "</table>\n",
       "</div>"
      ],
      "text/plain": [
       "    Subject Number  Age (Years)  Reported Height (cm)  Reported Weight (kg)  \\\n",
       "2             4004         18.1                 179.0                  67.0   \n",
       "5             4018         46.8                 169.0                  74.0   \n",
       "8             4025         36.4                 168.0                  66.0   \n",
       "9             4026         36.5                 186.0                  82.0   \n",
       "10            4027         27.0                 178.0                  74.0   \n",
       "\n",
       "    Shoe Size NL  Pants Size Waist  Waist Circumference, Pref (mm)  \\\n",
       "2           41.0              35.4                           787.0   \n",
       "5           41.0              31.5                           908.0   \n",
       "8           40.0              33.5                           791.0   \n",
       "9           42.0              31.5                           851.0   \n",
       "10          43.0              31.5                           832.0   \n",
       "\n",
       "    Chest Circumference (mm)  Neck Base Circumference (mm)  \\\n",
       "2                      917.0                         470.0   \n",
       "5                      976.0                         503.0   \n",
       "8                      946.0                         483.0   \n",
       "9                      991.0                         480.0   \n",
       "10                     932.0                         500.0   \n",
       "\n",
       "    Hip Circumference, Maximum (mm)  Crotch Height (mm)  \n",
       "2                             940.0               849.0  \n",
       "5                             996.0               778.0  \n",
       "8                             938.0               746.0  \n",
       "9                             977.0               867.0  \n",
       "10                            986.0               785.0  "
      ]
     },
     "execution_count": 16,
     "metadata": {},
     "output_type": "execute_result"
    }
   ],
   "source": [
    "italy_data.head()"
   ]
  },
  {
   "cell_type": "code",
   "execution_count": 17,
   "metadata": {},
   "outputs": [],
   "source": [
    "# print(data.shape)\n",
    "# frames=[data,italy_data]\n",
    "# result=pd.concat(frames)\n",
    "# print(italy_data.shape)"
   ]
  },
  {
   "cell_type": "code",
   "execution_count": 18,
   "metadata": {},
   "outputs": [
    {
     "ename": "NameError",
     "evalue": "name 'result' is not defined",
     "output_type": "error",
     "traceback": [
      "\u001b[0;31m---------------------------------------------------------------------------\u001b[0m",
      "\u001b[0;31mNameError\u001b[0m                                 Traceback (most recent call last)",
      "\u001b[0;32m/var/folders/vp/xlqp6dbd0fl_qfy9thbvg9zc0000gn/T/ipykernel_43904/1057666337.py\u001b[0m in \u001b[0;36m<module>\u001b[0;34m\u001b[0m\n\u001b[0;32m----> 1\u001b[0;31m \u001b[0mresult\u001b[0m\u001b[0;34m\u001b[0m\u001b[0;34m\u001b[0m\u001b[0m\n\u001b[0m",
      "\u001b[0;31mNameError\u001b[0m: name 'result' is not defined"
     ]
    }
   ],
   "source": [
    "result\n"
   ]
  },
  {
   "cell_type": "code",
   "execution_count": null,
   "metadata": {},
   "outputs": [],
   "source": []
  },
  {
   "cell_type": "code",
   "execution_count": 19,
   "metadata": {},
   "outputs": [],
   "source": [
    "data[waist]=data[waist]/25.4#convert to inches"
   ]
  },
  {
   "cell_type": "code",
   "execution_count": 20,
   "metadata": {},
   "outputs": [
    {
     "name": "stdout",
     "output_type": "stream",
     "text": [
      "0      47.0\n",
      "1      45.0\n",
      "2      44.0\n",
      "3      43.0\n",
      "8      44.0\n",
      "       ... \n",
      "560    43.0\n",
      "561    42.0\n",
      "564    42.0\n",
      "565    44.5\n",
      "566    42.0\n",
      "Name: Pants Size Waist, Length: 390, dtype: float64\n"
     ]
    }
   ],
   "source": [
    "print(data[pants_size])"
   ]
  },
  {
   "cell_type": "code",
   "execution_count": 21,
   "metadata": {},
   "outputs": [],
   "source": [
    "%load_ext tensorboard"
   ]
  },
  {
   "cell_type": "code",
   "execution_count": null,
   "metadata": {},
   "outputs": [],
   "source": [
    "import tensorflow as tf\n"
   ]
  },
  {
   "cell_type": "code",
   "execution_count": null,
   "metadata": {},
   "outputs": [],
   "source": [
    "\n",
    "from cProfile import label\n",
    "plt.figure(figsize=(10,10))\n",
    "\n",
    "X=data[pants_size]\n",
    "Y=data[waist]\n",
    "plt.plot(X,label=\"Reported Waist\",alpha=0.5)\n",
    "plt.plot(Y,label=\"Measured Waist\",alpha=0.5)\n",
    "plt.legend()\n",
    "plt.show()"
   ]
  },
  {
   "cell_type": "code",
   "execution_count": null,
   "metadata": {},
   "outputs": [],
   "source": [
    "demographic_data.head()"
   ]
  },
  {
   "cell_type": "code",
   "execution_count": null,
   "metadata": {},
   "outputs": [],
   "source": [
    "\n",
    "plt.figure(figsize=(15,15))\n",
    "sns.heatmap(X.corr(),annot=True,cmap='RdYlGn',linewidths=2,linecolor='orange',annot_kws={'size':8,'color':'black'},fmt='.4f',square=True)"
   ]
  },
  {
   "cell_type": "code",
   "execution_count": null,
   "metadata": {},
   "outputs": [],
   "source": [
    "\n",
    "plt.figure(figsize=(15,15))\n",
    "sns.heatmap(y.corr(),annot=True,cmap='RdYlGn',linewidths=2,linecolor='orange',annot_kws={'size':8,'color':'black'},fmt='.4f',square=True)"
   ]
  },
  {
   "cell_type": "code",
   "execution_count": null,
   "metadata": {},
   "outputs": [],
   "source": [
    "plt.figure(figsize=(15,15))\n",
    "sns.heatmap(data.corr(),annot=True,cmap='RdYlGn',linewidths=2,linecolor='orange',annot_kws={'size':8,'color':'black'},fmt='.4f',square=True)"
   ]
  },
  {
   "cell_type": "code",
   "execution_count": null,
   "metadata": {},
   "outputs": [],
   "source": [
    "data.shape"
   ]
  },
  {
   "cell_type": "code",
   "execution_count": null,
   "metadata": {},
   "outputs": [],
   "source": [
    "sns.pairplot(data)"
   ]
  },
  {
   "cell_type": "code",
   "execution_count": null,
   "metadata": {},
   "outputs": [],
   "source": [
    "import numpy as np  #np is shortcut of numpy\n",
    "\n",
    "#Syntax : np.random.randint(the range for ex if you choose 100 then your array elements will be within the range 0 to 100, size = (row size, col size)\n",
    "\n",
    "a = np.random.randint(100, size = (10,5)) #a is a variable(object)\n",
    "print(a)"
   ]
  },
  {
   "cell_type": "code",
   "execution_count": null,
   "metadata": {},
   "outputs": [],
   "source": [
    "a[:,0]"
   ]
  },
  {
   "cell_type": "code",
   "execution_count": null,
   "metadata": {},
   "outputs": [],
   "source": []
  }
 ],
 "metadata": {
  "kernelspec": {
   "display_name": "Python 3 (ipykernel)",
   "language": "python",
   "name": "python3"
  },
  "language_info": {
   "codemirror_mode": {
    "name": "ipython",
    "version": 3
   },
   "file_extension": ".py",
   "mimetype": "text/x-python",
   "name": "python",
   "nbconvert_exporter": "python",
   "pygments_lexer": "ipython3",
   "version": "3.9.7"
  },
  "vscode": {
   "interpreter": {
    "hash": "c916b037d063aa9eaf901456bbb94860de35f074e47d68eccadc63c8a8afb3f2"
   }
  }
 },
 "nbformat": 4,
 "nbformat_minor": 2
}
